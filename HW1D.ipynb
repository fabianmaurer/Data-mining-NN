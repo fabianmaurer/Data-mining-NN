{
 "cells": [
  {
   "cell_type": "code",
   "execution_count": 136,
   "metadata": {},
   "outputs": [
    {
     "name": "stdout",
     "output_type": "stream",
     "text": [
      "[50, 0, 0]\n",
      "[0, 48, 2]\n",
      "[0, 14, 36]\n",
      "134\n",
      "16\n"
     ]
    }
   ],
   "source": [
    "from sklearn.cluster import KMeans\n",
    "import numpy as np\n",
    "from scipy.io import arff\n",
    "import matplotlib.pyplot as plt\n",
    "\n",
    "irislabels=['Iris-setosa','Iris-versicolor','Iris-virginica']\n",
    "\n",
    "incorrectlabel=[0]*150\n",
    "data = arff.loadarff('iris.arff')[0]\n",
    "X=np.empty((150,4))\n",
    "for i in range(len(data)):\n",
    "     for j in range(len(data[i])-1):\n",
    "         X[i][j]=data[i][j]\n",
    "\n",
    "km = KMeans(\n",
    "    n_clusters=3, init='random',\n",
    "    n_init=10, max_iter=300, \n",
    "    tol=1e-04, random_state=0\n",
    ")\n",
    "y_km = km.fit_predict(X)\n",
    "\n",
    "sums=[0,0,0]\n",
    "clustermap=[0,1,2]\n",
    "correct=0\n",
    "incorrect=0\n",
    "\n",
    "for n in range(len(irislabels)):\n",
    "    sums=[0,0,0]\n",
    "    for i in range(len(y_km)):\n",
    "        if data[i][4].decode('UTF8')==irislabels[n]:\n",
    "            sums[y_km[i]]+=1\n",
    "            if y_km[i]==clustermap[n]:\n",
    "                correct+=1\n",
    "            else:\n",
    "                incorrect+=1\n",
    "    print(sums)\n",
    "\n",
    "print(correct)\n",
    "print(incorrect)\n"
   ]
  },
  {
   "cell_type": "code",
   "execution_count": 137,
   "metadata": {},
   "outputs": [
    {
     "name": "stdout",
     "output_type": "stream",
     "text": [
      "[0, 50, 0]\n",
      "[38, 0, 12]\n",
      "[15, 0, 35]\n",
      "123\n",
      "27\n"
     ]
    }
   ],
   "source": [
    "X=np.empty((150,2))\n",
    "for i in range(len(data)):\n",
    "    X[i][0]=data[i][0]\n",
    "    X[i][1]=data[i][1]\n",
    "\n",
    "km = KMeans(\n",
    "    n_clusters=3, init='random',\n",
    "    n_init=10, max_iter=300, \n",
    "    tol=1e-04, random_state=0\n",
    ")\n",
    "y_km = km.fit_predict(X)\n",
    "\n",
    "sums=[0,0,0]\n",
    "clustermap=[1,0,2]\n",
    "correct=0\n",
    "incorrect=0\n",
    "\n",
    "for n in range(len(irislabels)):\n",
    "    sums=[0,0,0]\n",
    "    for i in range(len(y_km)):\n",
    "        if data[i][4].decode('UTF8')==irislabels[n]:\n",
    "            sums[y_km[i]]+=1\n",
    "            if y_km[i]==clustermap[n]:\n",
    "                correct+=1\n",
    "            else:\n",
    "                incorrect+=1\n",
    "                incorrectlabel[i]+=1\n",
    "    print(sums)\n",
    "\n",
    "print(correct)\n",
    "print(incorrect)"
   ]
  },
  {
   "cell_type": "code",
   "execution_count": 138,
   "metadata": {},
   "outputs": [
    {
     "name": "stdout",
     "output_type": "stream",
     "text": [
      "[0, 0, 50]\n",
      "[2, 48, 0]\n",
      "[46, 4, 0]\n",
      "144\n",
      "6\n"
     ]
    }
   ],
   "source": [
    "X=np.empty((150,2))\n",
    "for i in range(len(data)):\n",
    "    X[i][0]=data[i][2]\n",
    "    X[i][1]=data[i][3]\n",
    "\n",
    "km = KMeans(\n",
    "    n_clusters=3, init='random',\n",
    "    n_init=10, max_iter=300, \n",
    "    tol=1e-04, random_state=0\n",
    ")\n",
    "y_km = km.fit_predict(X)\n",
    "\n",
    "sums=[0,0,0]\n",
    "clustermap=[2,1,0]\n",
    "correct=0\n",
    "incorrect=0\n",
    "\n",
    "for n in range(len(irislabels)):\n",
    "    sums=[0,0,0]\n",
    "    for i in range(len(y_km)):\n",
    "        if data[i][4].decode('UTF8')==irislabels[n]:\n",
    "            sums[y_km[i]]+=1\n",
    "            if y_km[i]==clustermap[n]:\n",
    "                correct+=1\n",
    "            else:\n",
    "                incorrect+=1\n",
    "                incorrectlabel[i]+=1\n",
    "    print(sums)\n",
    "\n",
    "print(correct)\n",
    "print(incorrect)"
   ]
  },
  {
   "cell_type": "code",
   "execution_count": 139,
   "metadata": {},
   "outputs": [
    {
     "name": "stdout",
     "output_type": "stream",
     "text": [
      "[0, 0, 50]\n",
      "[4, 45, 1]\n",
      "[37, 13, 0]\n",
      "132\n",
      "18\n"
     ]
    }
   ],
   "source": [
    "X=np.empty((150,2))\n",
    "for i in range(len(data)):\n",
    "    X[i][0]=data[i][0]\n",
    "    X[i][1]=data[i][2]\n",
    "\n",
    "km = KMeans(\n",
    "    n_clusters=3, init='random',\n",
    "    n_init=10, max_iter=300, \n",
    "    tol=1e-04, random_state=0\n",
    ")\n",
    "y_km = km.fit_predict(X)\n",
    "\n",
    "sums=[0,0,0]\n",
    "clustermap=[2,1,0]\n",
    "correct=0\n",
    "incorrect=0\n",
    "\n",
    "for n in range(len(irislabels)):\n",
    "    sums=[0,0,0]\n",
    "    for i in range(len(y_km)):\n",
    "        if data[i][4].decode('UTF8')==irislabels[n]:\n",
    "            sums[y_km[i]]+=1\n",
    "            if y_km[i]==clustermap[n]:\n",
    "                correct+=1\n",
    "            else:\n",
    "                incorrect+=1\n",
    "                incorrectlabel[i]+=1\n",
    "    print(sums)\n",
    "\n",
    "print(correct)\n",
    "print(incorrect)"
   ]
  },
  {
   "cell_type": "code",
   "execution_count": 140,
   "metadata": {},
   "outputs": [
    {
     "name": "stdout",
     "output_type": "stream",
     "text": [
      "[0, 0, 50]\n",
      "[7, 39, 4]\n",
      "[35, 15, 0]\n",
      "124\n",
      "26\n"
     ]
    }
   ],
   "source": [
    "X=np.empty((150,2))\n",
    "for i in range(len(data)):\n",
    "    X[i][0]=data[i][0]\n",
    "    X[i][1]=data[i][3]\n",
    "\n",
    "km = KMeans(\n",
    "    n_clusters=3, init='random',\n",
    "    n_init=10, max_iter=300, \n",
    "    tol=1e-04, random_state=0\n",
    ")\n",
    "y_km = km.fit_predict(X)\n",
    "\n",
    "sums=[0,0,0]\n",
    "clustermap=[2,1,0]\n",
    "correct=0\n",
    "incorrect=0\n",
    "\n",
    "for n in range(len(irislabels)):\n",
    "    sums=[0,0,0]\n",
    "    for i in range(len(y_km)):\n",
    "        if data[i][4].decode('UTF8')==irislabels[n]:\n",
    "            sums[y_km[i]]+=1\n",
    "            if y_km[i]==clustermap[n]:\n",
    "                correct+=1\n",
    "            else:\n",
    "                incorrect+=1\n",
    "                incorrectlabel[i]+=1\n",
    "    print(sums)\n",
    "\n",
    "print(correct)\n",
    "print(incorrect)"
   ]
  },
  {
   "cell_type": "code",
   "execution_count": 141,
   "metadata": {},
   "outputs": [
    {
     "name": "stdout",
     "output_type": "stream",
     "text": [
      "[0, 0, 50]\n",
      "[2, 48, 0]\n",
      "[41, 9, 0]\n",
      "139\n",
      "11\n"
     ]
    }
   ],
   "source": [
    "X=np.empty((150,2))\n",
    "for i in range(len(data)):\n",
    "    X[i][0]=data[i][1]\n",
    "    X[i][1]=data[i][2]\n",
    "\n",
    "km = KMeans(\n",
    "    n_clusters=3, init='random',\n",
    "    n_init=10, max_iter=300, \n",
    "    tol=1e-04, random_state=0\n",
    ")\n",
    "y_km = km.fit_predict(X)\n",
    "\n",
    "sums=[0,0,0]\n",
    "clustermap=[2,1,0]\n",
    "correct=0\n",
    "incorrect=0\n",
    "\n",
    "for n in range(len(irislabels)):\n",
    "    sums=[0,0,0]\n",
    "    for i in range(len(y_km)):\n",
    "        if data[i][4].decode('UTF8')==irislabels[n]:\n",
    "            sums[y_km[i]]+=1\n",
    "            if y_km[i]==clustermap[n]:\n",
    "                correct+=1\n",
    "            else:\n",
    "                incorrect+=1\n",
    "                incorrectlabel[i]+=1\n",
    "    print(sums)\n",
    "\n",
    "print(correct)\n",
    "print(incorrect)"
   ]
  },
  {
   "cell_type": "code",
   "execution_count": 142,
   "metadata": {},
   "outputs": [
    {
     "name": "stdout",
     "output_type": "stream",
     "text": [
      "[0, 1, 49]\n",
      "[4, 46, 0]\n",
      "[44, 6, 0]\n",
      "139\n",
      "11\n",
      "[0, 0, 0, 0, 0, 0, 0, 0, 0, 0, 0, 0, 0, 0, 0, 0, 0, 0, 0, 0, 0, 0, 0, 0, 0, 0, 0, 0, 0, 0, 0, 0, 0, 0, 0, 0, 0, 0, 0, 0, 0, 1, 0, 0, 0, 0, 0, 0, 0, 0, 3, 1, 3, 0, 1, 0, 2, 1, 1, 0, 1, 0, 0, 0, 0, 2, 0, 0, 0, 0, 1, 0, 0, 0, 1, 2, 3, 6, 0, 0, 0, 0, 0, 2, 0, 1, 2, 0, 0, 0, 0, 0, 0, 1, 0, 0, 0, 0, 2, 0, 0, 3, 0, 1, 0, 0, 6, 0, 1, 0, 0, 0, 0, 4, 3, 0, 0, 0, 0, 6, 0, 4, 0, 4, 0, 0, 5, 4, 0, 1, 0, 0, 0, 3, 3, 0, 0, 0, 5, 0, 0, 0, 3, 0, 0, 0, 3, 0, 0, 3]\n",
      "77:6\n",
      "106:6\n",
      "113:4\n",
      "119:6\n",
      "121:4\n",
      "123:4\n",
      "126:5\n",
      "127:4\n",
      "138:5\n"
     ]
    }
   ],
   "source": [
    "X=np.empty((150,2))\n",
    "for i in range(len(data)):\n",
    "    X[i][0]=data[i][1]\n",
    "    X[i][1]=data[i][3]\n",
    "\n",
    "km = KMeans(\n",
    "    n_clusters=3, init='random',\n",
    "    n_init=10, max_iter=300, \n",
    "    tol=1e-04, random_state=0\n",
    ")\n",
    "y_km = km.fit_predict(X)\n",
    "\n",
    "sums=[0,0,0]\n",
    "clustermap=[2,1,0]\n",
    "correct=0\n",
    "incorrect=0\n",
    "\n",
    "for n in range(len(irislabels)):\n",
    "    sums=[0,0,0]\n",
    "    for i in range(len(y_km)):\n",
    "        if data[i][4].decode('UTF8')==irislabels[n]:\n",
    "            sums[y_km[i]]+=1\n",
    "            if y_km[i]==clustermap[n]:\n",
    "                correct+=1\n",
    "            else:\n",
    "                incorrect+=1\n",
    "                incorrectlabel[i]+=1\n",
    "    print(sums)\n",
    "\n",
    "print(correct)\n",
    "print(incorrect)\n",
    "print(incorrectlabel)\n",
    "for i in range(len(incorrectlabel)):\n",
    "    if incorrectlabel[i]>3:\n",
    "        print(i,end=':')\n",
    "        print(incorrectlabel[i])"
   ]
  },
  {
   "cell_type": "code",
   "execution_count": null,
   "metadata": {},
   "outputs": [],
   "source": []
  }
 ],
 "metadata": {
  "kernelspec": {
   "display_name": "Python 3",
   "language": "python",
   "name": "python3"
  },
  "language_info": {
   "codemirror_mode": {
    "name": "ipython",
    "version": 3
   },
   "file_extension": ".py",
   "mimetype": "text/x-python",
   "name": "python",
   "nbconvert_exporter": "python",
   "pygments_lexer": "ipython3",
   "version": "3.7.3"
  }
 },
 "nbformat": 4,
 "nbformat_minor": 2
}
